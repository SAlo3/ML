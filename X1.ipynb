{
 "cells": [
  {
   "cell_type": "code",
   "execution_count": 2,
   "metadata": {},
   "outputs": [],
   "source": [
    "import numpy as np\n",
    "path = \"data_set/datingTestSet.txt\"\n",
    "data = []\n",
    "labels = []\n",
    "open_file = open(path,mode='r',encoding='UTF8')\n",
    "STR = open_file.read()\n",
    "lines = STR.split('\\n')\n",
    "for line in lines:\n",
    "    f_l = line.split('\\t')\n",
    "    x1,x2,x3,label = float(f_l[0]),float(f_l[1]),float(f_l[2]),f_l[3]\n",
    "    data.append([x1,x2,x3])\n",
    "    labels.append(label)\n",
    "data = np.array(data)\n",
    "labels = np.array(labels)"
   ]
  },
  {
   "cell_type": "code",
   "execution_count": 3,
   "metadata": {},
   "outputs": [
    {
     "name": "stdout",
     "output_type": "stream",
     "text": [
      "[[4.0920000e+04 8.3269760e+00 9.5395200e-01]\n",
      " [1.4488000e+04 7.1534690e+00 1.6739040e+00]\n",
      " [2.6052000e+04 1.4418710e+00 8.0512400e-01]\n",
      " ...\n",
      " [2.6575000e+04 1.0650102e+01 8.6662700e-01]\n",
      " [4.8111000e+04 9.1345280e+00 7.2804500e-01]\n",
      " [4.3757000e+04 7.8826010e+00 1.3324460e+00]]\n"
     ]
    }
   ],
   "source": [
    "print(data)"
   ]
  },
  {
   "cell_type": "code",
   "execution_count": 4,
   "metadata": {},
   "outputs": [
    {
     "name": "stdout",
     "output_type": "stream",
     "text": [
      "[[0.44832535 0.39805139 0.56233353]\n",
      " [0.15873259 0.34195467 0.98724416]\n",
      " [0.28542943 0.06892523 0.47449629]\n",
      " ...\n",
      " [0.29115949 0.50910294 0.51079493]\n",
      " [0.52711097 0.43665451 0.4290048 ]\n",
      " [0.47940793 0.3768091  0.78571804]]\n"
     ]
    }
   ],
   "source": [
    "max_ = np.max(data,axis=0)\n",
    "min_ = np.min(data,axis=0)\n",
    "new_data = (data-min_)/(max_-min_)\n",
    "print(new_data)"
   ]
  },
  {
   "cell_type": "code",
   "execution_count": 5,
   "metadata": {},
   "outputs": [],
   "source": [
    "from sklearn.model_selection import train_test_split"
   ]
  },
  {
   "cell_type": "code",
   "execution_count": 6,
   "metadata": {},
   "outputs": [],
   "source": [
    "x_train, x_test, y_train, y_test = train_test_split(new_data,labels,test_size=0.3,random_state=42)"
   ]
  },
  {
   "cell_type": "code",
   "execution_count": 7,
   "metadata": {},
   "outputs": [
    {
     "data": {
      "text/plain": [
       "(700, 3)"
      ]
     },
     "execution_count": 7,
     "metadata": {},
     "output_type": "execute_result"
    }
   ],
   "source": [
    "x_train.shape"
   ]
  },
  {
   "cell_type": "code",
   "execution_count": 8,
   "metadata": {},
   "outputs": [],
   "source": [
    "def KNN_model(x_train, x_test, y_train, y_test,K):\n",
    "    accuracy = 0\n",
    "    m,n = x_test.shape  \n",
    "    for i in range(m): \n",
    "        data = x_test[i]\n",
    "        Euclidean_distance = np.power(np.sum((data - x_train)**2,axis=1),0.5)\n",
    "        sort_k = np.argsort(Euclidean_distance)[:K] \n",
    "        get_K_y = y_train[sort_k]\n",
    "        prob_dict = {}\n",
    "        for label in get_K_y:\n",
    "            if label not in prob_dict:\n",
    "                prob_dict[label] = 1\n",
    "            else:\n",
    "                prob_dict[label] += 1\n",
    "        predict_y = sorted(prob_dict.items(),key=lambda z:z[1],reverse=True)[0][0]\n",
    "        if predict_y == y_test[i]:\n",
    "            accuracy += 1\n",
    "    print('The test set accurate is {}'.format(accuracy / len(y_test)))"
   ]
  },
  {
   "cell_type": "code",
   "execution_count": 9,
   "metadata": {},
   "outputs": [
    {
     "name": "stdout",
     "output_type": "stream",
     "text": [
      "The test set accurate is 0.9233333333333333\n"
     ]
    }
   ],
   "source": [
    "KNN_model(x_train,x_test,y_train,y_test,5)"
   ]
  },
  {
   "cell_type": "code",
   "execution_count": null,
   "metadata": {},
   "outputs": [],
   "source": []
  }
 ],
 "metadata": {
  "kernelspec": {
   "display_name": "Python 3",
   "language": "python",
   "name": "python3"
  },
  "language_info": {
   "codemirror_mode": {
    "name": "ipython",
    "version": 3
   },
   "file_extension": ".py",
   "mimetype": "text/x-python",
   "name": "python",
   "nbconvert_exporter": "python",
   "pygments_lexer": "ipython3",
   "version": "3.7.3"
  }
 },
 "nbformat": 4,
 "nbformat_minor": 2
}
